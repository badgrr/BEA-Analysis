{
 "cells": [
  {
   "cell_type": "code",
   "execution_count": 8,
   "metadata": {},
   "outputs": [],
   "source": [
    "import pybea\n",
    "import configparser\n",
    "\n",
    "config = configparser.ConfigParser()\n",
    "config.read('config.ini')\n",
    "\n",
    "USER_ID: str = config['KEYS']['USER_ID']\n",
    "\n",
    "# Get datasets\n",
    "datasets = pybea.get_data_set_list(USER_ID)"
   ]
  },
  {
   "cell_type": "code",
   "execution_count": 12,
   "metadata": {},
   "outputs": [],
   "source": [
    "datasets = []"
   ]
  },
  {
   "cell_type": "code",
   "execution_count": 7,
   "metadata": {},
   "outputs": [
    {
     "data": {
      "text/html": [
       "<div>\n",
       "<style scoped>\n",
       "    .dataframe tbody tr th:only-of-type {\n",
       "        vertical-align: middle;\n",
       "    }\n",
       "\n",
       "    .dataframe tbody tr th {\n",
       "        vertical-align: top;\n",
       "    }\n",
       "\n",
       "    .dataframe thead th {\n",
       "        text-align: right;\n",
       "    }\n",
       "</style>\n",
       "<table border=\"1\" class=\"dataframe\">\n",
       "  <thead>\n",
       "    <tr style=\"text-align: right;\">\n",
       "      <th></th>\n",
       "      <th>AllValue</th>\n",
       "      <th>MultipleAcceptedFlag</th>\n",
       "      <th>ParameterDataType</th>\n",
       "      <th>ParameterDefaultValue</th>\n",
       "      <th>ParameterDescription</th>\n",
       "      <th>ParameterIsRequiredFlag</th>\n",
       "      <th>ParameterName</th>\n",
       "    </tr>\n",
       "  </thead>\n",
       "  <tbody>\n",
       "    <tr>\n",
       "      <th>0</th>\n",
       "      <td></td>\n",
       "      <td>1</td>\n",
       "      <td>string</td>\n",
       "      <td></td>\n",
       "      <td>A - Annual, Q-Quarterly, M-Monthly</td>\n",
       "      <td>1</td>\n",
       "      <td>Frequency</td>\n",
       "    </tr>\n",
       "    <tr>\n",
       "      <th>1</th>\n",
       "      <td></td>\n",
       "      <td>0</td>\n",
       "      <td>string</td>\n",
       "      <td>N</td>\n",
       "      <td>A flag indicating that million-dollar data sho...</td>\n",
       "      <td>0</td>\n",
       "      <td>ShowMillions</td>\n",
       "    </tr>\n",
       "    <tr>\n",
       "      <th>2</th>\n",
       "      <td></td>\n",
       "      <td>0</td>\n",
       "      <td>integer</td>\n",
       "      <td>NaN</td>\n",
       "      <td>The standard NIPA table identifier</td>\n",
       "      <td>0</td>\n",
       "      <td>TableID</td>\n",
       "    </tr>\n",
       "    <tr>\n",
       "      <th>3</th>\n",
       "      <td></td>\n",
       "      <td>0</td>\n",
       "      <td>string</td>\n",
       "      <td>NaN</td>\n",
       "      <td>The new NIPA table identifier</td>\n",
       "      <td>0</td>\n",
       "      <td>TableName</td>\n",
       "    </tr>\n",
       "    <tr>\n",
       "      <th>4</th>\n",
       "      <td>X</td>\n",
       "      <td>1</td>\n",
       "      <td>integer</td>\n",
       "      <td></td>\n",
       "      <td>List of year(s) of data to retrieve (X for All)</td>\n",
       "      <td>1</td>\n",
       "      <td>Year</td>\n",
       "    </tr>\n",
       "  </tbody>\n",
       "</table>\n",
       "</div>"
      ],
      "text/plain": [
       "  AllValue  MultipleAcceptedFlag ParameterDataType ParameterDefaultValue  \\\n",
       "0                              1            string                         \n",
       "1                              0            string                     N   \n",
       "2                              0           integer                   NaN   \n",
       "3                              0            string                   NaN   \n",
       "4        X                     1           integer                         \n",
       "\n",
       "                                ParameterDescription  ParameterIsRequiredFlag  \\\n",
       "0                 A - Annual, Q-Quarterly, M-Monthly                        1   \n",
       "1  A flag indicating that million-dollar data sho...                        0   \n",
       "2                 The standard NIPA table identifier                        0   \n",
       "3                      The new NIPA table identifier                        0   \n",
       "4    List of year(s) of data to retrieve (X for All)                        1   \n",
       "\n",
       "  ParameterName  \n",
       "0     Frequency  \n",
       "1  ShowMillions  \n",
       "2       TableID  \n",
       "3     TableName  \n",
       "4          Year  "
      ]
     },
     "execution_count": 7,
     "metadata": {},
     "output_type": "execute_result"
    }
   ],
   "source": [
    "GDP_Params = pybea.get_parameter_list(USER_ID, DataSetName='GDPbyIndustry', ResultFormat='JSON')\n",
    "\n",
    "NIPA_Params = pybea.get_parameter_list(USER_ID, DataSetName='NIPA', ResultFormat='JSON')\n",
    "NIPA_Params"
   ]
  },
  {
   "cell_type": "code",
   "execution_count": null,
   "metadata": {},
   "outputs": [],
   "source": [
    "NIPA_data = pybea.get_data(USER_ID, DataSetName='NIPA')"
   ]
  }
 ],
 "metadata": {
  "kernelspec": {
   "display_name": "Python 3",
   "language": "python",
   "name": "python3"
  },
  "language_info": {
   "codemirror_mode": {
    "name": "ipython",
    "version": 3
   },
   "file_extension": ".py",
   "mimetype": "text/x-python",
   "name": "python",
   "nbconvert_exporter": "python",
   "pygments_lexer": "ipython3",
   "version": "3.6.6"
  }
 },
 "nbformat": 4,
 "nbformat_minor": 2
}
